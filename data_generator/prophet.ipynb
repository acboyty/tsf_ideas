{
 "metadata": {
  "language_info": {
   "codemirror_mode": {
    "name": "ipython",
    "version": 3
   },
   "file_extension": ".py",
   "mimetype": "text/x-python",
   "name": "python",
   "nbconvert_exporter": "python",
   "pygments_lexer": "ipython3",
   "version": "3.7.9-final"
  },
  "orig_nbformat": 2,
  "kernelspec": {
   "name": "python3",
   "display_name": "Python 3.7.9 64-bit ('py37_pytorch': conda)",
   "metadata": {
    "interpreter": {
     "hash": "b5079757533a07d523b22964b5bda6a42550d36e9c94eb5f662e38c34376cbf3"
    }
   }
  }
 },
 "nbformat": 4,
 "nbformat_minor": 2,
 "cells": [
  {
   "cell_type": "code",
   "execution_count": 1,
   "metadata": {},
   "outputs": [],
   "source": [
    "import pandas as pd \n",
    "from fbprophet import Prophet\n",
    "import numpy as np \n",
    "import matplotlib.pyplot as plt"
   ]
  },
  {
   "cell_type": "code",
   "execution_count": 3,
   "metadata": {},
   "outputs": [],
   "source": [
    "df = pd.read_csv('../data/prophet/example_wp_log_peyton_manning.csv')"
   ]
  },
  {
   "cell_type": "code",
   "execution_count": 4,
   "metadata": {},
   "outputs": [],
   "source": [
    "playoffs = pd.DataFrame({\n",
    "  'holiday': 'playoff',\n",
    "  'ds': pd.to_datetime(['2008-01-13', '2009-01-03', '2010-01-16',\n",
    "                        '2010-01-24', '2010-02-07', '2011-01-08',\n",
    "                        '2013-01-12', '2014-01-12', '2014-01-19',\n",
    "                        '2014-02-02', '2015-01-11', '2016-01-17',\n",
    "                        '2016-01-24', '2016-02-07']),\n",
    "  'lower_window': 0,\n",
    "  'upper_window': 1,\n",
    "})\n",
    "superbowls = pd.DataFrame({\n",
    "  'holiday': 'superbowl',\n",
    "  'ds': pd.to_datetime(['2010-02-07', '2014-02-02', '2016-02-07']),\n",
    "  'lower_window': 0,\n",
    "  'upper_window': 1,\n",
    "})\n",
    "holidays = pd.concat((playoffs, superbowls))"
   ]
  },
  {
   "cell_type": "code",
   "execution_count": 5,
   "metadata": {},
   "outputs": [],
   "source": [
    "df.ds = pd.to_datetime(df.ds).apply(lambda x: int(x.timestamp() / 24 / 60 / 60 + 0.1) - 13857)\n",
    "playoffs['ds'] = pd.to_datetime(playoffs['ds']).apply(lambda x: int(x.timestamp() / 24 / 60 / 60 + 0.1) - 13857)\n",
    "superbowls['ds'] = pd.to_datetime(superbowls['ds']).apply(lambda x: int(x.timestamp() / 24 / 60 / 60 + 0.1) - 13857)"
   ]
  },
  {
   "cell_type": "code",
   "execution_count": 6,
   "metadata": {},
   "outputs": [
    {
     "output_type": "execute_result",
     "data": {
      "text/plain": [
       "        ds          y\n",
       "0        0   9.590761\n",
       "1        1   8.519590\n",
       "2        2   8.183677\n",
       "3        3   8.072467\n",
       "4        4   7.893572\n",
       "...    ...        ...\n",
       "2900  2959   7.817223\n",
       "2901  2960   9.273878\n",
       "2902  2961  10.333775\n",
       "2903  2962   9.125871\n",
       "2904  2963   8.891374\n",
       "\n",
       "[2905 rows x 2 columns]"
      ],
      "text/html": "<div>\n<style scoped>\n    .dataframe tbody tr th:only-of-type {\n        vertical-align: middle;\n    }\n\n    .dataframe tbody tr th {\n        vertical-align: top;\n    }\n\n    .dataframe thead th {\n        text-align: right;\n    }\n</style>\n<table border=\"1\" class=\"dataframe\">\n  <thead>\n    <tr style=\"text-align: right;\">\n      <th></th>\n      <th>ds</th>\n      <th>y</th>\n    </tr>\n  </thead>\n  <tbody>\n    <tr>\n      <th>0</th>\n      <td>0</td>\n      <td>9.590761</td>\n    </tr>\n    <tr>\n      <th>1</th>\n      <td>1</td>\n      <td>8.519590</td>\n    </tr>\n    <tr>\n      <th>2</th>\n      <td>2</td>\n      <td>8.183677</td>\n    </tr>\n    <tr>\n      <th>3</th>\n      <td>3</td>\n      <td>8.072467</td>\n    </tr>\n    <tr>\n      <th>4</th>\n      <td>4</td>\n      <td>7.893572</td>\n    </tr>\n    <tr>\n      <th>...</th>\n      <td>...</td>\n      <td>...</td>\n    </tr>\n    <tr>\n      <th>2900</th>\n      <td>2959</td>\n      <td>7.817223</td>\n    </tr>\n    <tr>\n      <th>2901</th>\n      <td>2960</td>\n      <td>9.273878</td>\n    </tr>\n    <tr>\n      <th>2902</th>\n      <td>2961</td>\n      <td>10.333775</td>\n    </tr>\n    <tr>\n      <th>2903</th>\n      <td>2962</td>\n      <td>9.125871</td>\n    </tr>\n    <tr>\n      <th>2904</th>\n      <td>2963</td>\n      <td>8.891374</td>\n    </tr>\n  </tbody>\n</table>\n<p>2905 rows × 2 columns</p>\n</div>"
     },
     "metadata": {},
     "execution_count": 6
    }
   ],
   "source": [
    "df"
   ]
  },
  {
   "cell_type": "code",
   "execution_count": 7,
   "metadata": {},
   "outputs": [],
   "source": [
    "data = np.zeros((2964, 2))\n",
    "data[df.ds, 0] = df.y\n",
    "data[playoffs.ds[:-2], 1] = 1\n",
    "data[[790, 2246], 1] = 1"
   ]
  },
  {
   "cell_type": "code",
   "execution_count": 8,
   "metadata": {},
   "outputs": [
    {
     "output_type": "execute_result",
     "data": {
      "text/plain": [
       "array([[ 9.59076114,  0.        ],\n",
       "       [ 8.51959032,  0.        ],\n",
       "       [ 8.18367658,  0.        ],\n",
       "       ...,\n",
       "       [10.33377535,  0.        ],\n",
       "       [ 9.12587122,  0.        ],\n",
       "       [ 8.89137401,  0.        ]])"
      ]
     },
     "metadata": {},
     "execution_count": 8
    }
   ],
   "source": [
    "data"
   ]
  },
  {
   "cell_type": "code",
   "execution_count": 99,
   "metadata": {},
   "outputs": [],
   "source": [
    "data_dir = '../data/prophet/'\n",
    "if not os.path.exists(data_dir):\n",
    "    os.mkdir(data_dir)\n",
    "np.save(data_dir + 'with_holiday', data)"
   ]
  }
 ]
}